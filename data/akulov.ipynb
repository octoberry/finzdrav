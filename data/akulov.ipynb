{
 "metadata": {
  "name": "",
  "signature": "sha256:21a047a09caca3d54478f1988d75cfc143db0bb2bd0d0f6ac7a4380463250caf"
 },
 "nbformat": 3,
 "nbformat_minor": 0,
 "worksheets": [
  {
   "cells": [
    {
     "cell_type": "code",
     "collapsed": false,
     "input": [
      "%matplotlib inline\n",
      "import pandas as pd\n",
      "import numpy as np\n",
      "import datetime as dt\n",
      "\n",
      "df = pd.read_csv('akulov.csv')\n",
      "\n",
      "debit_trans_type = [585, 515, 670, 799, 736, 700, 703, 774, 777, 776, 677, 680, 508, 781, 689]\n",
      "df = df[df.trans_type.isin(debit_trans_type)]"
     ],
     "language": "python",
     "metadata": {},
     "outputs": [],
     "prompt_number": 5
    },
    {
     "cell_type": "code",
     "collapsed": false,
     "input": [
      "max_date = dt.datetime(2014, 6, 1)\n",
      "month_ago = dt.datetime(2014, 5, 1)\n",
      "\n",
      "def to_ts(date):\n",
      "    return int(date.strftime('%s'))\n",
      "\n",
      "df1 = df[to_ts(max_date) >= df.creation_timestamp]\n",
      "df1 = df1[df1.creation_timestamp >= to_ts(month_ago)]\n",
      "df1.insert(len(df1.columns), 'date', df1.creation_timestamp.map(lambda x: dt.datetime.fromtimestamp(x).strftime('%Y-%m-%d')))\n",
      "df2 = df1.pivot_table(['amount'], ['date'], aggfunc='sum')\n",
      "\n",
      "avg = np.mean(df2.amount)\n",
      "print avg\n",
      "df2.insert(len(df2.columns), 'diff', df2.amount.map(lambda x: avg - x))\n",
      "df2.amount.plot(ax=pd.Series([avg]*len(df2.amount)).plot())\n",
      "\n",
      "total = sum(df2.amount)\n",
      "cnt = len(df2.amount)\n",
      "# line_down = pd.Series([total - (i+1)*avg for i in xrange(0, cnt)])\n",
      "line_up = pd.Series([i*avg for i in xrange(0, cnt)])\n",
      "line_up.plot()\n",
      "\n",
      "# burn_down = [sum(df2.amount[i:]) for i in xrange(0, cnt)]\n",
      "burn_up = [sum(df2.amount[0:i]) for i in xrange(0, cnt)]\n",
      "# pd.Series(burn_down).plot(ax=line_down.plot())\n",
      "pd.Series(burn_up).plot()\n",
      "\n",
      "ideal = lambda x: x * avg\n",
      "\n",
      "from scipy import integrate\n",
      "intq_max = integrate.quad (ideal, 0, cnt)\n",
      "\n",
      "from scipy.interpolate import interp1d\n",
      "real = interp1d(range(0, cnt), burn_up, bounds_error=False, fill_value=.0)\n",
      "diff = lambda x: abs(ideal(x)-real(x))\n",
      "intq = integrate.quad (diff, 0, cnt)\n",
      "print intq[0] / intq_max[0]\n",
      "\n"
     ],
     "language": "python",
     "metadata": {},
     "outputs": [
      {
       "output_type": "stream",
       "stream": "stdout",
       "text": [
        "6005.5\n",
        "0.269709842384"
       ]
      },
      {
       "output_type": "stream",
       "stream": "stdout",
       "text": [
        "\n"
       ]
      },
      {
       "metadata": {},
       "output_type": "display_data",
       "png": "[encoded data removed]",
       "text": [
        "<matplotlib.figure.Figure at 0x113950210>"
       ]
      }
     ],
     "prompt_number": 13
    },
    {
     "cell_type": "code",
     "collapsed": false,
     "input": [],
     "language": "python",
     "metadata": {},
     "outputs": [],
     "prompt_number": 2
    },
    {
     "cell_type": "code",
     "collapsed": false,
     "input": [
      "# month_ago = int((dt.datetime.now() - dt.timedelta(days=30)).strftime('%s'))\n",
      "# df1 = df[df.creation_timestamp > month_ago]\n",
      "# df1 = df[df.group_name == 'Miscellaneous Stores']\n",
      "\n",
      "# 'Amusement and Entertainment', 'Automobiles and Vehicles',\n",
      "#        'Business Services', 'Clothing Stores', 'Hotels and Motels',\n",
      "#        'Miscellaneous Stores', 'Personal Service Providers',\n",
      "#        'Professional Services and Membership Organizations', 'Quasi-Cash',\n",
      "#        'Retail Stores', 'Service Providers', 'Transportation', 'Utilities',\n",
      "#        'Wholesale Distributors and Manufacturers'\n",
      "\n",
      "# df1.head()\n",
      "# month_ago = dt.datetime.now() - dt.timedelta(days=30)\n",
      "# df1 = df.select(lambda x: dt.datetime.fromtimestamp(int(x)) > month_ago)\n",
      "# df1.pivot_table(['amount'], ['group_name', 'address_name'], aggfunc='sum')[:50]\n",
      "# df.pivot_table(['amount'], ['group_name'], aggfunc='sum')\n",
      "\n",
      "# \u0440\u0430\u0441\u043f\u0440\u0435\u0434\u0435\u043b\u0435\u043d\u0438\u0435\n",
      "# max_ts = max(df.creation_timestamp)\n",
      "# max_date = dt.datetime.fromtimestamp(max_ts)"
     ],
     "language": "python",
     "metadata": {},
     "outputs": [],
     "prompt_number": 3
    },
    {
     "cell_type": "code",
     "collapsed": false,
     "input": [],
     "language": "python",
     "metadata": {},
     "outputs": [],
     "prompt_number": 3
    },
    {
     "cell_type": "code",
     "collapsed": false,
     "input": [],
     "language": "python",
     "metadata": {},
     "outputs": [],
     "prompt_number": 3
    },
    {
     "cell_type": "code",
     "collapsed": false,
     "input": [],
     "language": "python",
     "metadata": {},
     "outputs": [],
     "prompt_number": 3
    },
    {
     "cell_type": "code",
     "collapsed": false,
     "input": [],
     "language": "python",
     "metadata": {},
     "outputs": [],
     "prompt_number": 3
    },
    {
     "cell_type": "code",
     "collapsed": false,
     "input": [],
     "language": "python",
     "metadata": {},
     "outputs": [],
     "prompt_number": 3
    },
    {
     "cell_type": "code",
     "collapsed": false,
     "input": [],
     "language": "python",
     "metadata": {},
     "outputs": [],
     "prompt_number": 3
    },
    {
     "cell_type": "code",
     "collapsed": false,
     "input": [],
     "language": "python",
     "metadata": {},
     "outputs": [],
     "prompt_number": 3
    },
    {
     "cell_type": "code",
     "collapsed": false,
     "input": [],
     "language": "python",
     "metadata": {},
     "outputs": [],
     "prompt_number": 3
    },
    {
     "cell_type": "code",
     "collapsed": false,
     "input": [],
     "language": "python",
     "metadata": {},
     "outputs": [],
     "prompt_number": 3
    },
    {
     "cell_type": "code",
     "collapsed": false,
     "input": [],
     "language": "python",
     "metadata": {},
     "outputs": []
    }
   ],
   "metadata": {}
  }
 ]
}