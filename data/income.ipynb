{
 "metadata": {
  "name": "",
  "signature": "sha256:fdebb1e950324af07d94b09866c94ef9cdf822edce7a6f82373f00be1818eecd"
 },
 "nbformat": 3,
 "nbformat_minor": 0,
 "worksheets": [
  {
   "cells": [
    {
     "cell_type": "code",
     "collapsed": false,
     "input": [
      "import pandas as pd\n",
      "import numpy as np\n",
      "from datetime import datetime\n",
      "\n",
      "df = pd.read_csv('salary_account.csv')\n",
      "\n",
      "def to_ts(date):\n",
      "    return date.strftime('%Y-%m-%d')\n",
      "\n",
      "max_date = dt.datetime(2014, 7, 1)\n",
      "month_ago = dt.datetime(2014, 6, 1)\n",
      "\n",
      "df1 = df[to_ts(max_date) >= df['\u0414\u0430\u0442\u0430 \u043e\u043f\u0435\u0440\u0430\u0446\u0438\u0438']]\n",
      "df1 = df1[df1['\u0414\u0430\u0442\u0430 \u043e\u043f\u0435\u0440\u0430\u0446\u0438\u0438'] >= to_ts(month_ago)]\n",
      "\n",
      "print sum(df1['\u041f\u0440\u0438\u0445\u043e\u0434'])"
     ],
     "language": "python",
     "metadata": {},
     "outputs": [
      {
       "output_type": "stream",
       "stream": "stdout",
       "text": [
        "2014-06-01\n",
        "263546.14\n",
        "179607.0\n"
       ]
      }
     ],
     "prompt_number": 17
    },
    {
     "cell_type": "code",
     "collapsed": false,
     "input": [],
     "language": "python",
     "metadata": {},
     "outputs": [],
     "prompt_number": 12
    },
    {
     "cell_type": "code",
     "collapsed": false,
     "input": [],
     "language": "python",
     "metadata": {},
     "outputs": [],
     "prompt_number": 12
    },
    {
     "cell_type": "code",
     "collapsed": false,
     "input": [],
     "language": "python",
     "metadata": {},
     "outputs": [],
     "prompt_number": 5
    },
    {
     "cell_type": "code",
     "collapsed": false,
     "input": [],
     "language": "python",
     "metadata": {},
     "outputs": [],
     "prompt_number": 5
    },
    {
     "cell_type": "code",
     "collapsed": false,
     "input": [],
     "language": "python",
     "metadata": {},
     "outputs": []
    }
   ],
   "metadata": {}
  }
 ]
}